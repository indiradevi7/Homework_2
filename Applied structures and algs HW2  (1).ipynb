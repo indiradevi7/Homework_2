{
 "cells": [
  {
   "cell_type": "markdown",
   "id": "0e221b6e",
   "metadata": {},
   "source": [
    "# 8. Write a program that allows the user to navigate through the lines of text in a file.\n",
    "The program prompts the user for a filename and inputs the lines of text into a list.\n",
    "The program then enters a loop in which it prints the number of lines in the file\n",
    "and prompts the user for a line number. Actual line numbers range from 1 to the\n",
    "number of lines in the file. If the input is 0, the program quits. Otherwise, the\n",
    "program prints the line associated with that number."
   ]
  },
  {
   "cell_type": "code",
   "execution_count": 2,
   "id": "c740cf5c",
   "metadata": {},
   "outputs": [
    {
     "name": "stdout",
     "output_type": "stream",
     "text": [
      "Enter the filename: indu\n",
      "File not found.\n",
      "The file is empty.\n"
     ]
    }
   ],
   "source": [
    "def read_file(filename):\n",
    "    try:\n",
    "        with open(filename, 'r') as file:\n",
    "            lines = file.readlines()\n",
    "        return lines\n",
    "    except FileNotFoundError:\n",
    "        print(\"File not found.\")\n",
    "        return []\n",
    "\n",
    "def navigate_lines(lines):\n",
    "    num_lines = len(lines)\n",
    "    if num_lines == 0:\n",
    "        print(\"The file is empty.\")\n",
    "        return\n",
    "    \n",
    "    while True:\n",
    "        print(f\"\\nThe file contains {num_lines} lines.\")\n",
    "        line_num = int(input(\"Enter a line number (1 - N) [0 to quit]: \"))\n",
    "        \n",
    "        if line_num == 0:\n",
    "            print(\"Exiting the program.\")\n",
    "            break\n",
    "        \n",
    "        if line_num < 1 or line_num > num_lines:\n",
    "            print(\"Invalid line number. Please try again.\")\n",
    "            continue\n",
    "        \n",
    "        line = lines[line_num - 1]\n",
    "        print(f\"\\nLine {line_num}: {line}\")\n",
    "\n",
    "filename = input(\"Enter the filename: \")\n",
    "lines = read_file(filename)\n",
    "navigate_lines(lines)\n"
   ]
  },
  {
   "cell_type": "code",
   "execution_count": null,
   "id": "fffd24d4",
   "metadata": {},
   "outputs": [],
   "source": []
  }
 ],
 "metadata": {
  "kernelspec": {
   "display_name": "Python 3 (ipykernel)",
   "language": "python",
   "name": "python3"
  },
  "language_info": {
   "codemirror_mode": {
    "name": "ipython",
    "version": 3
   },
   "file_extension": ".py",
   "mimetype": "text/x-python",
   "name": "python",
   "nbconvert_exporter": "python",
   "pygments_lexer": "ipython3",
   "version": "3.10.4"
  }
 },
 "nbformat": 4,
 "nbformat_minor": 5
}
