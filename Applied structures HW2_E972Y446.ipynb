{
 "cells": [
  {
   "cell_type": "markdown",
   "id": "304c7bb4",
   "metadata": {},
   "source": [
    "# 1.1 The Fibonacci Sequence"
   ]
  },
  {
   "cell_type": "code",
   "execution_count": 1,
   "id": "e769af94",
   "metadata": {},
   "outputs": [],
   "source": [
    "def fib1(n: int) -> int:\n",
    "    if n <= 0:\n",
    "        return 0\n",
    "    elif n == 1:\n",
    "        return 1\n",
    "    else:\n",
    "        return fib1(n - 1) + fib1(n - 2)\n"
   ]
  },
  {
   "cell_type": "code",
   "execution_count": 2,
   "id": "b4288d57",
   "metadata": {},
   "outputs": [
    {
     "name": "stdout",
     "output_type": "stream",
     "text": [
      "8\n"
     ]
    }
   ],
   "source": [
    "print(fib1(6))\n"
   ]
  },
  {
   "cell_type": "code",
   "execution_count": 3,
   "id": "167f1b24",
   "metadata": {},
   "outputs": [
    {
     "name": "stdout",
     "output_type": "stream",
     "text": [
      "5\n"
     ]
    }
   ],
   "source": [
    "def fib1(n: int) -> int:\n",
    "    if n <= 0:\n",
    "        return 0\n",
    "    elif n == 1:\n",
    "        return 1\n",
    "    \n",
    "    prev_1 = 0\n",
    "    prev_2 = 1\n",
    "    fib = 0\n",
    "    \n",
    "    for _ in range(2, n + 1):\n",
    "        fib = prev_1 + prev_2\n",
    "        prev_1, prev_2 = prev_2, fib\n",
    "    \n",
    "    return fib\n",
    "\n",
    "if __name__ == \"__main__\":\n",
    "    print(fib1(5))\n"
   ]
  },
  {
   "cell_type": "code",
   "execution_count": 4,
   "id": "ac460cea",
   "metadata": {},
   "outputs": [],
   "source": [
    "def fib2(n: int) -> int:\n",
    "    if n < 2:  # base case\n",
    "        return n\n",
    "    return fib2(n - 2) + fib2(n - 1)  # recursive case\n"
   ]
  },
  {
   "cell_type": "code",
   "execution_count": 5,
   "id": "982ba051",
   "metadata": {},
   "outputs": [
    {
     "name": "stdout",
     "output_type": "stream",
     "text": [
      "5\n",
      "55\n"
     ]
    }
   ],
   "source": [
    "def fib2(n: int) -> int:\n",
    "    if n < 2:  # base case\n",
    "        return n\n",
    "    return fib2(n - 2) + fib2(n - 1)  # recursive case\n",
    "\n",
    "if __name__ == \"__main__\":\n",
    "    print(fib2(5))  # Output: 5\n",
    "    print(fib2(10))  # Output: 55\n"
   ]
  },
  {
   "cell_type": "code",
   "execution_count": 6,
   "id": "89ff3f15",
   "metadata": {},
   "outputs": [],
   "source": [
    "from typing import Dict\n",
    "\n",
    "memo: Dict[int, int] = {0: 0, 1: 1}  # base cases\n",
    "\n",
    "def fib3(n: int) -> int:\n",
    "    if n not in memo:\n",
    "        memo[n] = fib3(n - 1) + fib3(n - 2)  # memoization\n",
    "    return memo[n]\n"
   ]
  },
  {
   "cell_type": "code",
   "execution_count": 7,
   "id": "492c2e6e",
   "metadata": {},
   "outputs": [
    {
     "name": "stdout",
     "output_type": "stream",
     "text": [
      "5\n",
      "55\n"
     ]
    }
   ],
   "source": [
    "print(fib3(5))  # Output: 5\n",
    "print(fib3(10))  # Output: 55\n"
   ]
  },
  {
   "cell_type": "code",
   "execution_count": 8,
   "id": "fea5be5e",
   "metadata": {},
   "outputs": [
    {
     "name": "stdout",
     "output_type": "stream",
     "text": [
      "5\n",
      "12586269025\n"
     ]
    }
   ],
   "source": [
    "from typing import Dict\n",
    "\n",
    "memo: Dict[int, int] = {0: 0, 1: 1}  # base cases\n",
    "\n",
    "def fib3(n: int) -> int:\n",
    "    if n not in memo:\n",
    "        memo[n] = fib3(n - 1) + fib3(n - 2)  # memoization\n",
    "    return memo[n]\n",
    "\n",
    "if __name__ == \"__main__\":\n",
    "    print(fib3(5))  # Output: 5\n",
    "    print(fib3(50))  # Output: 12586269025\n"
   ]
  },
  {
   "cell_type": "code",
   "execution_count": 9,
   "id": "ebf4222e",
   "metadata": {},
   "outputs": [
    {
     "name": "stdout",
     "output_type": "stream",
     "text": [
      "5\n",
      "12586269025\n"
     ]
    }
   ],
   "source": [
    "from functools import lru_cache\n",
    "\n",
    "@lru_cache(maxsize=None)\n",
    "def fib4(n: int) -> int:\n",
    "    if n < 2:  # base case\n",
    "        return n\n",
    "    return fib4(n - 2) + fib4(n - 1)  # recursive case\n",
    "\n",
    "if __name__ == \"__main__\":\n",
    "    print(fib4(5))  # Output: 5\n",
    "    print(fib4(50))  # Output: 12586269025\n"
   ]
  },
  {
   "cell_type": "code",
   "execution_count": 10,
   "id": "12faca17",
   "metadata": {},
   "outputs": [
    {
     "name": "stdout",
     "output_type": "stream",
     "text": [
      "5\n",
      "12586269025\n"
     ]
    }
   ],
   "source": [
    "def fib5(n: int) -> int:\n",
    "    if n == 0:\n",
    "        return n  # special case\n",
    "    last: int = 0  # initially set to fib(0)\n",
    "    next: int = 1  # initially set to fib(1)\n",
    "    for _ in range(1, n):\n",
    "        last, next = next, last + next\n",
    "    return next\n",
    "\n",
    "if __name__ == \"__main__\":\n",
    "    print(fib5(5))  # Output: 5\n",
    "    print(fib5(50))  # Output: 12586269025\n"
   ]
  },
  {
   "cell_type": "code",
   "execution_count": 11,
   "id": "4595a434",
   "metadata": {},
   "outputs": [
    {
     "name": "stdout",
     "output_type": "stream",
     "text": [
      "0\n",
      "1\n",
      "1\n",
      "2\n",
      "3\n",
      "5\n",
      "8\n",
      "13\n",
      "21\n",
      "34\n",
      "55\n",
      "89\n",
      "144\n",
      "233\n",
      "377\n",
      "610\n",
      "987\n",
      "1597\n",
      "2584\n",
      "4181\n",
      "6765\n",
      "10946\n",
      "17711\n",
      "28657\n",
      "46368\n",
      "75025\n",
      "121393\n",
      "196418\n",
      "317811\n",
      "514229\n",
      "832040\n",
      "1346269\n",
      "2178309\n",
      "3524578\n",
      "5702887\n",
      "9227465\n",
      "14930352\n",
      "24157817\n",
      "39088169\n",
      "63245986\n",
      "102334155\n",
      "165580141\n",
      "267914296\n",
      "433494437\n",
      "701408733\n",
      "1134903170\n",
      "1836311903\n",
      "2971215073\n",
      "4807526976\n",
      "7778742049\n",
      "12586269025\n"
     ]
    }
   ],
   "source": [
    "from typing import Generator\n",
    "\n",
    "def fib6(n: int) -> Generator[int, None, None]:\n",
    "    yield 0  # special case\n",
    "    if n > 0: yield 1  # special case\n",
    "    last: int = 0  # initially set to fib(0)\n",
    "    next: int = 1  # initially set to fib(1)\n",
    "    for _ in range(1, n):\n",
    "        last, next = next, last + next\n",
    "        yield next  # main generation step\n",
    "\n",
    "if __name__ == \"__main__\":\n",
    "    for i in fib6(50):\n",
    "        print(i)"
   ]
  },
  {
   "cell_type": "markdown",
   "id": "a3433995",
   "metadata": {},
   "source": [
    "# 1.2 Trivial Compression"
   ]
  },
  {
   "cell_type": "code",
   "execution_count": 12,
   "id": "cf79cd7b",
   "metadata": {},
   "outputs": [],
   "source": [
    "class CompressedGene:\n",
    "    def __init__(self, gene: str) -> None:\n",
    "        self._compress(gene)\n"
   ]
  },
  {
   "cell_type": "code",
   "execution_count": 13,
   "id": "3e6e64ce",
   "metadata": {},
   "outputs": [],
   "source": [
    "class CompressedGene:\n",
    "    def __init__(self, gene: str) -> None:\n",
    "        self._compress(gene)\n",
    "\n",
    "    def _compress(self, gene: str) -> None:\n",
    "        # Implementation of gene compression goes here\n",
    "        pass\n",
    "\n",
    "if __name__ == \"__main__\":\n",
    "    gene = \"ATCGGCTA\"\n",
    "    compressed_gene = CompressedGene(gene)\n"
   ]
  },
  {
   "cell_type": "code",
   "execution_count": 14,
   "id": "83a74247",
   "metadata": {},
   "outputs": [],
   "source": [
    "class CompressedGene:\n",
    "    def __init__(self, gene: str) -> None:\n",
    "        self._compress(gene)\n",
    "\n",
    "    def _compress(self, gene: str) -> None:\n",
    "        self.bit_string: int = 1  # start with sentinel\n",
    "        for nucleotide in gene.upper():\n",
    "            self.bit_string <<= 2  # shift left two bits\n",
    "            if nucleotide == \"A\":  # change last two bits to 00\n",
    "                self.bit_string |= 0b00\n",
    "            elif nucleotide == \"C\":  # change last two bits to 01\n",
    "                self.bit_string |= 0b01\n",
    "            elif nucleotide == \"G\":  # change last two bits to 10\n",
    "                self.bit_string |= 0b10\n",
    "            elif nucleotide == \"T\":  # change last two bits to 11\n",
    "                self.bit_string |= 0b11\n",
    "            else:\n",
    "                raise ValueError(\"Invalid Nucleotide: {}\".format(nucleotide))\n",
    "\n",
    "if __name__ == \"__main__\":\n",
    "    gene = \"ATCGGCTA\"\n",
    "    compressed_gene = CompressedGene(gene)\n"
   ]
  },
  {
   "cell_type": "code",
   "execution_count": 15,
   "id": "f68d6aa2",
   "metadata": {},
   "outputs": [
    {
     "name": "stdout",
     "output_type": "stream",
     "text": [
      "ATCGGCTA\n"
     ]
    }
   ],
   "source": [
    "class CompressedGene:\n",
    "    def __init__(self, gene: str) -> None:\n",
    "        self._compress(gene)\n",
    "\n",
    "    def _compress(self, gene: str) -> None:\n",
    "        self.bit_string: int = 1  # start with sentinel\n",
    "        for nucleotide in gene.upper():\n",
    "            self.bit_string <<= 2  # shift left two bits\n",
    "            if nucleotide == \"A\":  # change last two bits to 00\n",
    "                self.bit_string |= 0b00\n",
    "            elif nucleotide == \"C\":  # change last two bits to 01\n",
    "                self.bit_string |= 0b01\n",
    "            elif nucleotide == \"G\":  # change last two bits to 10\n",
    "                self.bit_string |= 0b10\n",
    "            elif nucleotide == \"T\":  # change last two bits to 11\n",
    "                self.bit_string |= 0b11\n",
    "            else:\n",
    "                raise ValueError(\"Invalid Nucleotide: {}\".format(nucleotide))\n",
    "\n",
    "    def decompress(self) -> str:\n",
    "        gene: str = \"\"\n",
    "        for i in range(0, self.bit_string.bit_length() - 1, 2):  # - 1 to exclude sentinel\n",
    "            bits: int = self.bit_string >> i & 0b11  # get just 2 relevant bits\n",
    "            if bits == 0b00:  # A\n",
    "                gene += \"A\"\n",
    "            elif bits == 0b01:  # C\n",
    "                gene += \"C\"\n",
    "            elif bits == 0b10:  # G\n",
    "                gene += \"G\"\n",
    "            elif bits == 0b11:  # T\n",
    "                gene += \"T\"\n",
    "            else:\n",
    "                raise ValueError(\"Invalid bits: {}\".format(bits))\n",
    "        return gene[::-1]  # [::-1] reverses string by slicing backward\n",
    "\n",
    "    def __str__(self) -> str:  # string representation for pretty printing\n",
    "        return self.decompress()\n",
    "\n",
    "if __name__ == \"__main__\":\n",
    "    gene = \"ATCGGCTA\"\n",
    "    compressed_gene = CompressedGene(gene)\n",
    "    print(compressed_gene)\n"
   ]
  },
  {
   "cell_type": "code",
   "execution_count": 16,
   "id": "7eaa4537",
   "metadata": {},
   "outputs": [
    {
     "name": "stdout",
     "output_type": "stream",
     "text": [
      "original is 120 bytes\n",
      "compressed is 44 bytes\n",
      "TAGGGATTAACCGTTATATATATATAGCCATGGATCGATTATATAGGGATTAACCGTTATATATATATAGC\n",
      "original and decompressed are the same: True\n",
      "TAGGGATTAACCGTTATATATATATAGCCATGGATCGATTATATAGGGATTAACCGTTATATATATATAGC\n",
      "original and decompressed are the same: True\n"
     ]
    }
   ],
   "source": [
    "if __name__ == \"__main__\":\n",
    "    from sys import getsizeof\n",
    "original = \"TAGGGATTAACCGTTATATATATATAGCCATGGATCGATTATATAGGGATTAACCGTTATATATATATAGC\"\n",
    "compressed = CompressedGene(original)  # compress\n",
    "print(\"original is {} bytes\".format(getsizeof(original)))\n",
    "print(\"compressed is {} bytes\".format(getsizeof(compressed.bit_string)))\n",
    "print(compressed.decompress())\n",
    "print(\"original and decompressed are the same:\", original == compressed.decompress())\n",
    "\n",
    "print(compressed)  # decompress\n",
    "print(\"original and decompressed are the same: {}\".format(original ==\n",
    "     compressed.decompress()))"
   ]
  },
  {
   "cell_type": "code",
   "execution_count": 17,
   "id": "2650d00d",
   "metadata": {},
   "outputs": [
    {
     "name": "stdout",
     "output_type": "stream",
     "text": [
      "original is 120 bytes\n",
      "compressed is 48 bytes\n",
      "TAGGGATTAACCGTTATATATATATAGCCATGGATCGATTATATAGGGATTAACCGTTATATATATATAGC\n",
      "original and decompressed are the same: True\n"
     ]
    }
   ],
   "source": [
    "import sys\n",
    "\n",
    "original = \"TAGGGATTAACCGTTATATATATATAGCCATGGATCGATTATATAGGGATTAACCGTTATATATATATAGC\"\n",
    "compressed = CompressedGene(original)  # compress\n",
    "\n",
    "print(\"original is {} bytes\".format(sys.getsizeof(original)))\n",
    "print(\"compressed is {} bytes\".format(sys.getsizeof(compressed)))\n",
    "print(\"TAGGGATTAACCGTTATATATATATAGCCATGGATCGATTATATAGGGATTAACCGTTATATATATATAGC\")\n",
    "print(\"original and decompressed are the same:\", original == compressed.decompress())\n"
   ]
  },
  {
   "cell_type": "markdown",
   "id": "64f7cf95",
   "metadata": {},
   "source": [
    "# 1.3 Unbreakable Encryption"
   ]
  },
  {
   "cell_type": "code",
   "execution_count": 18,
   "id": "def114ed",
   "metadata": {},
   "outputs": [],
   "source": [
    "from secrets import token_bytes\n",
    "from typing import Tuple\n",
    "\n",
    "def random_key(length: int) -> int:\n",
    "    # generate length random bytes\n",
    "    tb: bytes = token_bytes(length)\n",
    "    # convert those bytes into a bit string and return it\n",
    "    return int.from_bytes(tb, \"big\")\n"
   ]
  },
  {
   "cell_type": "code",
   "execution_count": 19,
   "id": "260ddad9",
   "metadata": {},
   "outputs": [],
   "source": [
    "from secrets import token_bytes\n",
    "from typing import Tuple\n",
    "\n",
    "def random_key(length: int) -> int:\n",
    "    # generate length random bytes\n",
    "    tb: bytes = token_bytes(length)\n",
    "    # convert those bytes into a bit string and return it\n",
    "    return int.from_bytes(tb, \"big\")\n",
    "\n",
    "def encrypt(original: str) -> Tuple[int, int]:\n",
    "    original_bytes: bytes = original.encode()\n",
    "    dummy: int = random_key(len(original_bytes))\n",
    "    original_key: int = int.from_bytes(original_bytes, \"big\")\n",
    "    encrypted: int = original_key ^ dummy  # XOR\n",
    "    return dummy, encrypted\n"
   ]
  },
  {
   "cell_type": "code",
   "execution_count": 20,
   "id": "06890e22",
   "metadata": {},
   "outputs": [],
   "source": [
    "def decrypt(key1: int, key2: int) -> str:\n",
    "    decrypted: int = key1 ^ key2  # XOR\n",
    "    temp: bytes = decrypted.to_bytes((decrypted.bit_length() + 7) // 8, \"big\")\n",
    "    return temp.decode()\n"
   ]
  },
  {
   "cell_type": "code",
   "execution_count": 21,
   "id": "767b4409",
   "metadata": {},
   "outputs": [
    {
     "name": "stdout",
     "output_type": "stream",
     "text": [
      "One Time Pad!\n"
     ]
    }
   ],
   "source": [
    "if __name__ == \"__main__\":\n",
    "    key1, key2 = encrypt(\"One Time Pad!\")\n",
    "    result: str = decrypt(key1, key2)\n",
    "    print(result)\n"
   ]
  },
  {
   "cell_type": "markdown",
   "id": "71f77b70",
   "metadata": {},
   "source": [
    "# 1.4 Calculating pi"
   ]
  },
  {
   "cell_type": "code",
   "execution_count": 22,
   "id": "966ef53a",
   "metadata": {},
   "outputs": [],
   "source": [
    "def calculate_pi ():\n",
    "    if __name__ == \"__main__\":\n",
    "        print(calculate_pi(1000000))\n"
   ]
  },
  {
   "cell_type": "code",
   "execution_count": null,
   "id": "5e3f7f3f",
   "metadata": {},
   "outputs": [],
   "source": []
  }
 ],
 "metadata": {
  "kernelspec": {
   "display_name": "Python 3 (ipykernel)",
   "language": "python",
   "name": "python3"
  },
  "language_info": {
   "codemirror_mode": {
    "name": "ipython",
    "version": 3
   },
   "file_extension": ".py",
   "mimetype": "text/x-python",
   "name": "python",
   "nbconvert_exporter": "python",
   "pygments_lexer": "ipython3",
   "version": "3.10.4"
  }
 },
 "nbformat": 4,
 "nbformat_minor": 5
}
